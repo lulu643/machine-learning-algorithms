{
 "cells": [
  {
   "cell_type": "markdown",
   "metadata": {},
   "source": [
    "# Problem 1 Logistic Regression"
   ]
  },
  {
   "cell_type": "code",
   "execution_count": 1,
   "metadata": {},
   "outputs": [],
   "source": [
    "import numpy as np\n",
    "import matplotlib.pyplot as plt\n",
    "from sklearn.metrics import accuracy_score\n",
    "import pandas as pd\n",
    "from sklearn.linear_model import LogisticRegression"
   ]
  },
  {
   "cell_type": "code",
   "execution_count": 2,
   "metadata": {},
   "outputs": [],
   "source": [
    "class LogisticRegressionGD:\n",
    "    def __init__(self, lr=0.01, fit_intercept=True, max_epoch=1e5, tolerance=1e-7, verbose=True):\n",
    "        self.lr = lr\n",
    "        self.fit_intercept = fit_intercept\n",
    "        self.max_epoch = max_epoch\n",
    "        self.tolerance = tolerance\n",
    "        self.verbose = True\n",
    "\n",
    "    def add_intercept(self, X):\n",
    "        # add an extra column for the intercept\n",
    "        intercept = np.ones([X.shape[0], 1])\n",
    "        return np.concatenate((intercept, X), axis=1)\n",
    "\n",
    "    def sigmoid(self, z):\n",
    "        return 1 / (1 + np.exp(-z))\n",
    "\n",
    "    def cost_function(self, h, y):\n",
    "        # calculate the loss\n",
    "        # return the loss\n",
    "        # TODO\n",
    "        \n",
    "        return (-y * np.log(h) - (1 - y) * np.log(1 - h)).mean()\n",
    "\n",
    "    def fit(self, X, y):\n",
    "        '''\n",
    "        Parameters\n",
    "        ----------\n",
    "        X : shape (n_samples, n_features)\n",
    "            Training data\n",
    "        y : shape (n_samples,)\n",
    "            Target values, 1 or 0\n",
    "        epochs : The number of epochs\n",
    "        '''\n",
    "        # initialize the parameters\n",
    "        if self.fit_intercept:\n",
    "            X = self.add_intercept(X)\n",
    "        \n",
    "        # initialize the coefficients\n",
    "        self.theta = np.zeros(X.shape[1])\n",
    "\n",
    "        tol = 1e10\n",
    "        n_epoch = 1\n",
    "        while tol > self.tolerance and n_epoch <= self.max_epoch:\n",
    "            old_theta = self.theta.copy()\n",
    "            \n",
    "            # TODO:\n",
    "            # calculate predictions\n",
    "            # pred.shape: [n_samples, 1]\n",
    "            pred = np.asarray(self.predict(X, threshold=0.5))\n",
    "            pred = np.transpose(pred)\n",
    "            \n",
    "            # calculate gradients\n",
    "            # grad.shape:  [n_features, 1]\n",
    "            \n",
    "            p = self.sigmoid(np.dot(X, self.theta))\n",
    "            gradient = -(1 / len(X)) * np.dot(X.T, y - p)\n",
    "            \n",
    "            # update the coefficients\n",
    "            self.theta -= self.lr * gradient\n",
    "            \n",
    "            # END\n",
    "            \n",
    "            n_epoch += 1\n",
    "            tol = np.sum(np.abs(self.theta - old_theta))\n",
    "\n",
    "    def predict(self, X, threshold):\n",
    "        \"\"\"\n",
    "        Parameters\n",
    "        ----------\n",
    "        X : shape (n_samples, n_features)\n",
    "        threshold : threshold for make decision\n",
    "        Returns\n",
    "        -------\n",
    "        y : shape (n_samples,)\n",
    "            Predicted class label per sample, 1 or 0\n",
    "        \"\"\"\n",
    "        # TODO\n",
    "        \n",
    "        # add the intercept to X\n",
    "        self.add_intercept(X)\n",
    "        \n",
    "        # get the prediction y\n",
    "        prob = self.sigmoid(np.dot(X, self.theta))\n",
    "        \n",
    "        # return prediction y\n",
    "        return [1 if x >= threshold else 0 for x in prob]"
   ]
  },
  {
   "cell_type": "markdown",
   "metadata": {},
   "source": [
    "## 1.1 Fit a logistic regression model"
   ]
  },
  {
   "cell_type": "code",
   "execution_count": 3,
   "metadata": {},
   "outputs": [],
   "source": [
    "# read the data, transform the target variable y to 0/1 values\n",
    "# TODO\n",
    "\n",
    "# import numpy as np\n",
    "# df_X = pd.read_csv('logistic_x.txt', header=None, delim_whitespace=True)\n",
    "# y = pd.read_csv('logistic_y.txt', header=None)\n",
    "# y.replace(-1, 0, inplace=True).values\n",
    "# y = y.astype(int)\n",
    "# y.loc[s[0]==-1, 0] = 0\n",
    "# df_X['label'] = y\n",
    "\n",
    "# # fit a logistic regression model\n",
    "# X = df_X[[0, 1]].values\n",
    "# y = df_X['label'].values\n",
    "\n",
    "# read the data\n",
    "df_X = pd.read_csv('logistic_x.txt', sep='\\ +', header=None, engine='python')\n",
    "ys = pd.read_csv('logistic_y.txt', sep='\\ +', header=None, engine='python')\n",
    "ys = ys.astype(int)\n",
    "ys.loc[ys[0]==-1, 0] = 0\n",
    "df_X['label'] = ys\n",
    "\n",
    "\n",
    "# fit a logistic regression model\n",
    "X = df_X[[0, 1]].values\n",
    "y = df_X['label'].values"
   ]
  },
  {
   "cell_type": "code",
   "execution_count": 4,
   "metadata": {},
   "outputs": [
    {
     "name": "stdout",
     "output_type": "stream",
     "text": [
      "[-2.62004691  0.76026934  1.17191257]\n"
     ]
    }
   ],
   "source": [
    "# fit the model using the data, and print out the model coefficients w\n",
    "# we include the intercept term, so w is a vector with 3 components\n",
    "# print out the model coeffcients\n",
    "# TODO\n",
    "LRmodel = LogisticRegressionGD()\n",
    "LRmodel.fit(X, y)\n",
    "print(LRmodel.theta)"
   ]
  },
  {
   "cell_type": "markdown",
   "metadata": {},
   "source": [
    "## 1.2 Plot the training data and the decision boundary"
   ]
  },
  {
   "cell_type": "code",
   "execution_count": 5,
   "metadata": {},
   "outputs": [
    {
     "data": {
      "image/png": "[encoded data removed]",
      "text/plain": [
       "<Figure size 432x288 with 1 Axes>"
      ]
     },
     "metadata": {
      "needs_background": "light"
     },
     "output_type": "display_data"
    }
   ],
   "source": [
    "# plot the training data (x axis: first feature, y axis: second feature), use different labels for the two classes\n",
    "\n",
    "# on the same figure, plot the boundary, a straight line showing the boundary separating p>0.5 from p<=0.5\n",
    "\n",
    "# TODO\n",
    "y_0_filter = ys[0] == 0\n",
    "y_1_filter = ys[0] == 1\n",
    "plt.figure()\n",
    "\n",
    "plt.scatter(X[y_0_filter][:,0], X[y_0_filter][:,1], color='r', label='class_0_training')\n",
    "plt.scatter(X[y_1_filter][:,0], X[y_1_filter][:,1], color='g', label='class_1_training')\n",
    "\n",
    "x1 = [np.min(X[:, 0] - 1), np.max(X[:, 1] + 5)]\n",
    "x2 = [(LRmodel.theta[0]+LRmodel.theta[1]*i)/-LRmodel.theta[2] for i in x1]\n",
    "plt.plot(x1,x2, c='k', label='decision boundary')\n",
    "\n",
    "plt.legend(loc='lower right', frameon=False)\n",
    "plt.xlabel('x1')\n",
    "plt.ylabel('x2')\n",
    "plt.show()"
   ]
  }
 ],
 "metadata": {
  "kernelspec": {
   "display_name": "Python 3",
   "language": "python",
   "name": "python3"
  },
  "language_info": {
   "codemirror_mode": {
    "name": "ipython",
    "version": 3
   },
   "file_extension": ".py",
   "mimetype": "text/x-python",
   "name": "python",
   "nbconvert_exporter": "python",
   "pygments_lexer": "ipython3",
   "version": "3.8.5"
  }
 },
 "nbformat": 4,
 "nbformat_minor": 5
}
